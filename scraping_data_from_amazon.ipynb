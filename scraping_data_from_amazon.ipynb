{
 "cells": [
  {
   "cell_type": "code",
   "execution_count": 1,
   "metadata": {},
   "outputs": [],
   "source": [
    "from selenium import webdriver\n",
    "from bs4 import BeautifulSoup\n",
    "import csv\n",
    "from random import randrange"
   ]
  },
  {
   "cell_type": "code",
   "execution_count": 2,
   "metadata": {},
   "outputs": [],
   "source": [
    "driver = webdriver.Chrome('C:/Program Files (x86)/Google/Chrome/Application/chromedriver.exe')\n",
    "url='https://www.amazon.com'\n",
    "driver.get(url)\n"
   ]
  },
  {
   "cell_type": "code",
   "execution_count": 39,
   "metadata": {},
   "outputs": [],
   "source": [
    "def extract_data(item):\n",
    "    atag=item.h2.a\n",
    "    description=atag.text.strip()\n",
    "    url='https://www.amazon.com' + atag.get('href')\n",
    "    try:\n",
    "        prix_parent=item.find('span','a-price')\n",
    "        prix=prix_parent.find('span','a-offscreen').text\n",
    "    except AttributeError:\n",
    "        return\n",
    "    try:\n",
    "        rating=item.i.text\n",
    "        review_count=item.find('span',{'class':'a-size-base','dir':'auto'}).text\n",
    "    except AttributeError:\n",
    "        rating=''\n",
    "        review_count=''\n",
    "          \n",
    "    result= (description,prix,rating,review_count,url)\n",
    "    return result\n",
    "    "
   ]
  },
  {
   "cell_type": "code",
   "execution_count": 40,
   "metadata": {},
   "outputs": [],
   "source": [
    "def get_url(search_term):\n",
    "    url='https://www.amazon.com/s?k={}&ref=nb_sb_noss_2'\n",
    "    search_term=search_term.replace(' ','+')\n",
    "    urls=url.format(search_term)\n",
    "    urls+='&page{}'\n",
    "    return urls"
   ]
  },
  {
   "cell_type": "code",
   "execution_count": 41,
   "metadata": {},
   "outputs": [],
   "source": [
    "def main(search_term):\n",
    "    record=[]\n",
    "    url=get_url(search_term)\n",
    "    for page in range(1,21):\n",
    "        driver.get(url.format(page))\n",
    "        soup=BeautifulSoup(driver.page_source,'html.parser')\n",
    "        results=soup.find_all('div',{'data-component-type': 's-search-result'})\n",
    "        for item in results:\n",
    "            record=extract_data(item)\n",
    "            if record:\n",
    "                 records.append(record)\n",
    "                    \n",
    "        \n",
    "    driver.close()\n",
    "    \n",
    "    \n",
    "    with open('amazon.csv','w',newline='',encoding='utf-8') as f:\n",
    "        writer=csv.writer(f)\n",
    "        writer.writerow(['description','prix','Rating','ReviewCount','URL'])\n",
    "        writer.writerows(records)\n",
    "       \n",
    "    \n",
    "\n",
    "        \n",
    "        \n",
    "        \n",
    "\n",
    "    "
   ]
  },
  {
   "cell_type": "code",
   "execution_count": 42,
   "metadata": {},
   "outputs": [],
   "source": [
    "main('pc')"
   ]
  },
  {
   "cell_type": "code",
   "execution_count": 43,
   "metadata": {},
   "outputs": [],
   "source": [
    "import pandas as pd"
   ]
  },
  {
   "cell_type": "code",
   "execution_count": 44,
   "metadata": {},
   "outputs": [],
   "source": [
    "amazon=pd.read_csv('amazon.csv')"
   ]
  },
  {
   "cell_type": "code",
   "execution_count": 45,
   "metadata": {},
   "outputs": [
    {
     "data": {
      "text/html": [
       "<div>\n",
       "<style scoped>\n",
       "    .dataframe tbody tr th:only-of-type {\n",
       "        vertical-align: middle;\n",
       "    }\n",
       "\n",
       "    .dataframe tbody tr th {\n",
       "        vertical-align: top;\n",
       "    }\n",
       "\n",
       "    .dataframe thead th {\n",
       "        text-align: right;\n",
       "    }\n",
       "</style>\n",
       "<table border=\"1\" class=\"dataframe\">\n",
       "  <thead>\n",
       "    <tr style=\"text-align: right;\">\n",
       "      <th></th>\n",
       "      <th>description</th>\n",
       "      <th>prix</th>\n",
       "      <th>Rating</th>\n",
       "      <th>ReviewCount</th>\n",
       "      <th>URL</th>\n",
       "    </tr>\n",
       "  </thead>\n",
       "  <tbody>\n",
       "    <tr>\n",
       "      <th>0</th>\n",
       "      <td>CHUWI CoreBox X Windows 10 Mini PC,Intel Core ...</td>\n",
       "      <td>$399.00</td>\n",
       "      <td>4.3 out of 5 stars</td>\n",
       "      <td>12</td>\n",
       "      <td>https://www.amazon.com/gp/slredirect/picassoRe...</td>\n",
       "    </tr>\n",
       "    <tr>\n",
       "      <th>1</th>\n",
       "      <td>iBUYPOWER Gaming PC Computer Desktop Element M...</td>\n",
       "      <td>$529.99</td>\n",
       "      <td>4.4 out of 5 stars</td>\n",
       "      <td>722</td>\n",
       "      <td>https://www.amazon.com/iBUYPOWER-Computer-Elem...</td>\n",
       "    </tr>\n",
       "    <tr>\n",
       "      <th>2</th>\n",
       "      <td>CyberpowerPC Gamer Xtreme VR Gaming PC, Intel ...</td>\n",
       "      <td>$799.99</td>\n",
       "      <td>4.6 out of 5 stars</td>\n",
       "      <td>5,909</td>\n",
       "      <td>https://www.amazon.com/CyberpowerPC-Xtreme-i5-...</td>\n",
       "    </tr>\n",
       "    <tr>\n",
       "      <th>3</th>\n",
       "      <td>Acer Aspire TC-895-UA92 Desktop, 10th Gen Inte...</td>\n",
       "      <td>$545.00</td>\n",
       "      <td>4.6 out of 5 stars</td>\n",
       "      <td>503</td>\n",
       "      <td>https://www.amazon.com/Acer-TC-895-UA92-i5-104...</td>\n",
       "    </tr>\n",
       "    <tr>\n",
       "      <th>4</th>\n",
       "      <td>Webcam with Microphone for Desktop YIHUNION La...</td>\n",
       "      <td>$21.99</td>\n",
       "      <td>4.3 out of 5 stars</td>\n",
       "      <td>48</td>\n",
       "      <td>https://www.amazon.com/gp/slredirect/picassoRe...</td>\n",
       "    </tr>\n",
       "  </tbody>\n",
       "</table>\n",
       "</div>"
      ],
      "text/plain": [
       "                                         description     prix  \\\n",
       "0  CHUWI CoreBox X Windows 10 Mini PC,Intel Core ...  $399.00   \n",
       "1  iBUYPOWER Gaming PC Computer Desktop Element M...  $529.99   \n",
       "2  CyberpowerPC Gamer Xtreme VR Gaming PC, Intel ...  $799.99   \n",
       "3  Acer Aspire TC-895-UA92 Desktop, 10th Gen Inte...  $545.00   \n",
       "4  Webcam with Microphone for Desktop YIHUNION La...   $21.99   \n",
       "\n",
       "               Rating ReviewCount  \\\n",
       "0  4.3 out of 5 stars          12   \n",
       "1  4.4 out of 5 stars         722   \n",
       "2  4.6 out of 5 stars       5,909   \n",
       "3  4.6 out of 5 stars         503   \n",
       "4  4.3 out of 5 stars          48   \n",
       "\n",
       "                                                 URL  \n",
       "0  https://www.amazon.com/gp/slredirect/picassoRe...  \n",
       "1  https://www.amazon.com/iBUYPOWER-Computer-Elem...  \n",
       "2  https://www.amazon.com/CyberpowerPC-Xtreme-i5-...  \n",
       "3  https://www.amazon.com/Acer-TC-895-UA92-i5-104...  \n",
       "4  https://www.amazon.com/gp/slredirect/picassoRe...  "
      ]
     },
     "execution_count": 45,
     "metadata": {},
     "output_type": "execute_result"
    }
   ],
   "source": [
    "amazon.head()"
   ]
  },
  {
   "cell_type": "code",
   "execution_count": 46,
   "metadata": {},
   "outputs": [
    {
     "data": {
      "text/plain": [
       "(807, 5)"
      ]
     },
     "execution_count": 46,
     "metadata": {},
     "output_type": "execute_result"
    }
   ],
   "source": [
    "amazon.shape"
   ]
  },
  {
   "cell_type": "code",
   "execution_count": null,
   "metadata": {},
   "outputs": [],
   "source": []
  }
 ],
 "metadata": {
  "kernelspec": {
   "display_name": "Python 3",
   "language": "python",
   "name": "python3"
  },
  "language_info": {
   "codemirror_mode": {
    "name": "ipython",
    "version": 3
   },
   "file_extension": ".py",
   "mimetype": "text/x-python",
   "name": "python",
   "nbconvert_exporter": "python",
   "pygments_lexer": "ipython3",
   "version": "3.8.5"
  }
 },
 "nbformat": 4,
 "nbformat_minor": 4
}
